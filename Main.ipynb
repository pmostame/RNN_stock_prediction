{
 "cells": [
  {
   "cell_type": "code",
   "execution_count": 38,
   "metadata": {},
   "outputs": [],
   "source": [
    "import numpy as np\n",
    "import pandas as pd\n",
    "import torch\n",
    "import torch.nn as nn\n",
    "import matplotlib.pyplot as plt\n",
    "from sklearn.preprocessing import MinMaxScaler"
   ]
  },
  {
   "attachments": {},
   "cell_type": "markdown",
   "metadata": {},
   "source": [
    "# load data"
   ]
  },
  {
   "cell_type": "code",
   "execution_count": 64,
   "metadata": {},
   "outputs": [
    {
     "data": {
      "text/html": [
       "<div>\n",
       "<style scoped>\n",
       "    .dataframe tbody tr th:only-of-type {\n",
       "        vertical-align: middle;\n",
       "    }\n",
       "\n",
       "    .dataframe tbody tr th {\n",
       "        vertical-align: top;\n",
       "    }\n",
       "\n",
       "    .dataframe thead th {\n",
       "        text-align: right;\n",
       "    }\n",
       "</style>\n",
       "<table border=\"1\" class=\"dataframe\">\n",
       "  <thead>\n",
       "    <tr style=\"text-align: right;\">\n",
       "      <th></th>\n",
       "      <th>Date</th>\n",
       "      <th>Open</th>\n",
       "      <th>High</th>\n",
       "      <th>Low</th>\n",
       "      <th>Close</th>\n",
       "      <th>Adj Close</th>\n",
       "      <th>Volume</th>\n",
       "    </tr>\n",
       "  </thead>\n",
       "  <tbody>\n",
       "    <tr>\n",
       "      <th>0</th>\n",
       "      <td>1980-12-12</td>\n",
       "      <td>0.128348</td>\n",
       "      <td>0.128906</td>\n",
       "      <td>0.128348</td>\n",
       "      <td>0.128348</td>\n",
       "      <td>0.100178</td>\n",
       "      <td>469033600</td>\n",
       "    </tr>\n",
       "    <tr>\n",
       "      <th>1</th>\n",
       "      <td>1980-12-15</td>\n",
       "      <td>0.122210</td>\n",
       "      <td>0.122210</td>\n",
       "      <td>0.121652</td>\n",
       "      <td>0.121652</td>\n",
       "      <td>0.094952</td>\n",
       "      <td>175884800</td>\n",
       "    </tr>\n",
       "    <tr>\n",
       "      <th>2</th>\n",
       "      <td>1980-12-16</td>\n",
       "      <td>0.113281</td>\n",
       "      <td>0.113281</td>\n",
       "      <td>0.112723</td>\n",
       "      <td>0.112723</td>\n",
       "      <td>0.087983</td>\n",
       "      <td>105728000</td>\n",
       "    </tr>\n",
       "    <tr>\n",
       "      <th>3</th>\n",
       "      <td>1980-12-17</td>\n",
       "      <td>0.115513</td>\n",
       "      <td>0.116071</td>\n",
       "      <td>0.115513</td>\n",
       "      <td>0.115513</td>\n",
       "      <td>0.090160</td>\n",
       "      <td>86441600</td>\n",
       "    </tr>\n",
       "    <tr>\n",
       "      <th>4</th>\n",
       "      <td>1980-12-18</td>\n",
       "      <td>0.118862</td>\n",
       "      <td>0.119420</td>\n",
       "      <td>0.118862</td>\n",
       "      <td>0.118862</td>\n",
       "      <td>0.092774</td>\n",
       "      <td>73449600</td>\n",
       "    </tr>\n",
       "  </tbody>\n",
       "</table>\n",
       "</div>"
      ],
      "text/plain": [
       "         Date      Open      High       Low     Close  Adj Close     Volume\n",
       "0  1980-12-12  0.128348  0.128906  0.128348  0.128348   0.100178  469033600\n",
       "1  1980-12-15  0.122210  0.122210  0.121652  0.121652   0.094952  175884800\n",
       "2  1980-12-16  0.113281  0.113281  0.112723  0.112723   0.087983  105728000\n",
       "3  1980-12-17  0.115513  0.116071  0.115513  0.115513   0.090160   86441600\n",
       "4  1980-12-18  0.118862  0.119420  0.118862  0.118862   0.092774   73449600"
      ]
     },
     "execution_count": 64,
     "metadata": {},
     "output_type": "execute_result"
    }
   ],
   "source": [
    "df = pd.read_csv('AAPL.csv')\n",
    "df.head()"
   ]
  },
  {
   "attachments": {},
   "cell_type": "markdown",
   "metadata": {},
   "source": [
    "Clean data"
   ]
  },
  {
   "cell_type": "code",
   "execution_count": 65,
   "metadata": {},
   "outputs": [
    {
     "name": "stdout",
     "output_type": "stream",
     "text": [
      "['Date', 'Open', 'High', 'Low', 'Close', 'Adj Close', 'Volume']\n",
      "          Open\n",
      "6000  0.674107\n",
      "6001  0.680357\n",
      "6002  0.661429\n",
      "6003  0.668750\n",
      "6004  0.659821\n",
      "6005  0.668929\n",
      "6006  0.677321\n",
      "6007  0.696429\n",
      "6008  0.698571\n",
      "6009  0.699643\n"
     ]
    }
   ],
   "source": [
    "# drop extra columns and pick desired interval\n",
    "Start_of_data=6000\n",
    "End_of_data = 10000\n",
    "df = df.iloc[Start_of_data:End_of_data, 1:2]\n",
    "print( df.head(10) )"
   ]
  },
  {
   "cell_type": "code",
   "execution_count": 66,
   "metadata": {},
   "outputs": [
    {
     "name": "stdout",
     "output_type": "stream",
     "text": [
      "train set size is (3200, 1) and test set size is (800, 1)\n"
     ]
    }
   ],
   "source": [
    "# split data\n",
    "train_size = 0.8\n",
    "N = df.shape[0]\n",
    "df_train = df.iloc[:int(N*train_size), :]\n",
    "df_test = df.iloc[int(N*train_size):, :]\n",
    "print(f'train set size is {df_train.shape} and test set size is {df_test.shape}')"
   ]
  },
  {
   "cell_type": "code",
   "execution_count": 67,
   "metadata": {},
   "outputs": [
    {
     "data": {
      "text/html": [
       "<div>\n",
       "<style scoped>\n",
       "    .dataframe tbody tr th:only-of-type {\n",
       "        vertical-align: middle;\n",
       "    }\n",
       "\n",
       "    .dataframe tbody tr th {\n",
       "        vertical-align: top;\n",
       "    }\n",
       "\n",
       "    .dataframe thead th {\n",
       "        text-align: right;\n",
       "    }\n",
       "</style>\n",
       "<table border=\"1\" class=\"dataframe\">\n",
       "  <thead>\n",
       "    <tr style=\"text-align: right;\">\n",
       "      <th></th>\n",
       "      <th>Open</th>\n",
       "    </tr>\n",
       "  </thead>\n",
       "  <tbody>\n",
       "    <tr>\n",
       "      <th>count</th>\n",
       "      <td>800.000000</td>\n",
       "    </tr>\n",
       "    <tr>\n",
       "      <th>mean</th>\n",
       "      <td>1.380405</td>\n",
       "    </tr>\n",
       "    <tr>\n",
       "      <th>std</th>\n",
       "      <td>0.400920</td>\n",
       "    </tr>\n",
       "    <tr>\n",
       "      <th>min</th>\n",
       "      <td>0.914521</td>\n",
       "    </tr>\n",
       "    <tr>\n",
       "      <th>25%</th>\n",
       "      <td>1.100867</td>\n",
       "    </tr>\n",
       "    <tr>\n",
       "      <th>50%</th>\n",
       "      <td>1.241604</td>\n",
       "    </tr>\n",
       "    <tr>\n",
       "      <th>75%</th>\n",
       "      <td>1.535125</td>\n",
       "    </tr>\n",
       "    <tr>\n",
       "      <th>max</th>\n",
       "      <td>2.935246</td>\n",
       "    </tr>\n",
       "  </tbody>\n",
       "</table>\n",
       "</div>"
      ],
      "text/plain": [
       "             Open\n",
       "count  800.000000\n",
       "mean     1.380405\n",
       "std      0.400920\n",
       "min      0.914521\n",
       "25%      1.100867\n",
       "50%      1.241604\n",
       "75%      1.535125\n",
       "max      2.935246"
      ]
     },
     "execution_count": 67,
     "metadata": {},
     "output_type": "execute_result"
    }
   ],
   "source": [
    "# scale data\n",
    "sca = MinMaxScaler()\n",
    "df_train = pd.DataFrame( sca.fit_transform(df_train), columns=df.columns )\n",
    "df_test = pd.DataFrame( sca.transform(df_test), columns=df.columns )\n",
    "df_test.describe()"
   ]
  },
  {
   "attachments": {},
   "cell_type": "markdown",
   "metadata": {},
   "source": [
    "Make sequences"
   ]
  },
  {
   "cell_type": "code",
   "execution_count": 69,
   "metadata": {},
   "outputs": [],
   "source": [
    "def create_sequences(df, sequence_len=200, batch_num=1):\n",
    "    X = np.empty((df.shape[0] - sequence_len, sequence_len, df.shape[-1]))\n",
    "    y = np.empty((df.shape[0] - sequence_len, df.shape[-1]))\n",
    "    start_index = 0\n",
    "    while start_index < df.shape[0] - sequence_len:\n",
    "        end_index = start_index + sequence_len\n",
    "        X_temp = df.iloc[start_index:end_index, :].to_numpy()\n",
    "        y_temp = df.iloc[end_index, :].to_numpy()\n",
    "        X[start_index, :, :] = X_temp\n",
    "        y[start_index, :] = y_temp\n",
    "        start_index += 1\n",
    "        \n",
    "    # shuffle and batch the data\n",
    "    if batch_num != 1:\n",
    "        X = split_to_batches(X, batch_num=batch_num)\n",
    "        y = split_to_batches(y, batch_num=batch_num)\n",
    "    else:\n",
    "        X = torch.tensor(X, dtype=float)\n",
    "        y = torch.tensor(y, dtype=float)\n",
    "    return X, y\n",
    "\n",
    "def split_to_batches(x, batch_num=1):\n",
    "    batch_size = np.floor( x.shape[0] / batch_num ).astype(int)\n",
    "    out = []\n",
    "    for batch in range(batch_num):\n",
    "        idx = np.random.choice(np.arange(x.shape[0]), size=batch_size, replace=False)\n",
    "        temp = torch.tensor( x[idx], dtype=float)\n",
    "        out.append( temp )\n",
    "    return out\n",
    "\n",
    "\n",
    "# batch settings\n",
    "sequence_len = 400\n",
    "batch_num = 1\n",
    "\n",
    "# create batched data\n",
    "X_train, y_train = create_sequences(df_train, sequence_len=sequence_len, batch_num=batch_num)\n",
    "X_test, y_test = create_sequences(df_test, sequence_len=sequence_len)"
   ]
  },
  {
   "attachments": {},
   "cell_type": "markdown",
   "metadata": {},
   "source": [
    "Build an RNN model"
   ]
  },
  {
   "cell_type": "code",
   "execution_count": 70,
   "metadata": {},
   "outputs": [],
   "source": [
    "# create the model\n",
    "class Net(nn.Module):\n",
    "    def __init__(self, num_layers=1, hidden_size=24):\n",
    "        super(Net, self).__init__()\n",
    "        self.num_layers = num_layers\n",
    "        self.hidden_size = hidden_size\n",
    "        self.rnn = nn.GRU(df.shape[-1], self.hidden_size, self.num_layers, batch_first=True)\n",
    "        self.linear = nn.Linear(self.hidden_size, df.shape[-1])\n",
    "\n",
    "    def forward(self, x):\n",
    "        h0 = torch.zeros(self.num_layers, x.size(0), self.hidden_size)\n",
    "        # c0 = torch.zeros(self.num_layers, x.size(0), self.hidden_size)\n",
    "        out, _ = self.rnn(x, h0)\n",
    "        out = out[:, -1, :]\n",
    "        out = self.linear(out)\n",
    "        return out"
   ]
  },
  {
   "attachments": {},
   "cell_type": "markdown",
   "metadata": {},
   "source": [
    "Train the model"
   ]
  },
  {
   "cell_type": "code",
   "execution_count": 71,
   "metadata": {},
   "outputs": [
    {
     "name": "stdout",
     "output_type": "stream",
     "text": [
      "- Iter 0: loss=0.17245\n",
      "- Iter 1: loss=0.10872\n",
      "- Iter 2: loss=0.06811\n",
      "- Iter 3: loss=0.04972\n",
      "- Iter 4: loss=0.05217\n",
      "- Iter 5: loss=0.05880\n",
      "- Iter 6: loss=0.05452\n",
      "- Iter 7: loss=0.04385\n",
      "- Iter 8: loss=0.03402\n",
      "- Iter 9: loss=0.02806\n",
      "- Iter 10: loss=0.02554\n",
      "- Iter 11: loss=0.02452\n",
      "- Iter 12: loss=0.02285\n",
      "- Iter 13: loss=0.01918\n",
      "- Iter 14: loss=0.01355\n",
      "- Iter 15: loss=0.00754\n",
      "- Iter 16: loss=0.00373\n",
      "- Iter 17: loss=0.00395\n",
      "- Iter 18: loss=0.00562\n",
      "- Iter 19: loss=0.00398\n",
      "- Iter 20: loss=0.00139\n",
      "- Iter 21: loss=0.00263\n",
      "- Iter 22: loss=0.00567\n",
      "- Iter 23: loss=0.00579\n",
      "- Iter 24: loss=0.00329\n",
      "- Iter 25: loss=0.00110\n",
      "- Iter 26: loss=0.00078\n",
      "- Iter 27: loss=0.00148\n",
      "- Iter 28: loss=0.00172\n",
      "- Iter 29: loss=0.00123\n",
      "- Iter 30: loss=0.00067\n",
      "- Iter 31: loss=0.00061\n",
      "- Iter 32: loss=0.00100\n",
      "- Iter 33: loss=0.00146\n",
      "- Iter 34: loss=0.00165\n",
      "- Iter 35: loss=0.00146\n",
      "- Iter 36: loss=0.00104\n",
      "- Iter 37: loss=0.00067\n",
      "- Iter 38: loss=0.00052\n",
      "- Iter 39: loss=0.00052\n"
     ]
    }
   ],
   "source": [
    "# define a mdoel\n",
    "net = Net().float()\n",
    "\n",
    "# initialize criterion/optimizer/etc.\n",
    "n_epoch = 40\n",
    "criterion = nn.MSELoss()\n",
    "optimizer = torch.optim.Adam(net.parameters(), lr=0.01)\n",
    "scheduler = torch.optim.lr_scheduler.ReduceLROnPlateau(optimizer, 'min', factor=0.5, patience=5)\n",
    "\n",
    "# backprop\n",
    "for epoch in range(n_epoch):\n",
    "    running_loss = 0\n",
    "    for batch_ind in range(batch_num):\n",
    "        if batch_num == 1:\n",
    "                X_batch = X_train.float()\n",
    "                y_batch = y_train.float() \n",
    "        else:\n",
    "            X_batch = X_train[batch_ind].float()\n",
    "            y_batch = y_train[batch_ind].float()\n",
    "\n",
    "        optimizer.zero_grad()\n",
    "        output = net(X_batch)\n",
    "        loss = criterion(output, y_batch)\n",
    "        loss.backward()\n",
    "        optimizer.step()\n",
    "        running_loss += loss \n",
    "\n",
    "    running_loss /= batch_num\n",
    "\n",
    "    # step scheduler\n",
    "    scheduler.step(running_loss)\n",
    "    \n",
    "    # report running loss of this epoch\n",
    "    if (epoch % 1) == 0:\n",
    "        print(f'- Iter {epoch}: loss={running_loss:.5f}')"
   ]
  },
  {
   "attachments": {},
   "cell_type": "markdown",
   "metadata": {},
   "source": [
    "Plot results"
   ]
  },
  {
   "cell_type": "code",
   "execution_count": 72,
   "metadata": {},
   "outputs": [
    {
     "data": {
      "text/plain": [
       "<matplotlib.legend.Legend at 0x1e7339d3880>"
      ]
     },
     "execution_count": 72,
     "metadata": {},
     "output_type": "execute_result"
    },
    {
     "data": {
      "image/png": "[encoded data removed]",
      "text/plain": [
       "<Figure size 1152x288 with 1 Axes>"
      ]
     },
     "metadata": {
      "needs_background": "light"
     },
     "output_type": "display_data"
    }
   ],
   "source": [
    "# desired feature of the data to plot\n",
    "dim = 0\n",
    "\n",
    "# plot train set\n",
    "plt.figure(figsize=(16,4))\n",
    "plt.plot(np.arange(0, df_train.shape[0]), sca.inverse_transform(df_train)[:, dim], label='Train data')\n",
    "\n",
    "# plot train set\n",
    "plt.plot(np.arange(df_train.shape[0], df_train.shape[0] + df_test.shape[0]), sca.inverse_transform(df_test)[:, dim], label='Test data')\n",
    "\n",
    "# plot predictions of the test set\n",
    "predictions = net(X_test.float()).detach()\n",
    "plt.plot(np.arange(y_test.size(0)) + df_train.shape[0] + sequence_len, sca.inverse_transform(predictions)[:, dim], label='Prediction')\n",
    "\n",
    "# extract dates \n",
    "df = pd.read_csv('AAPL.csv')\n",
    "Dates = df.loc[Start_of_data:End_of_data, 'Date'].map(lambda x: pd.to_datetime(x).year)\n",
    "val, ind = np.unique(Dates, return_index=True)\n",
    "val = np.delete(val, np.where( np.diff(ind) < 100))\n",
    "ind = np.delete(ind,  np.where( np.diff(ind) < 100))\n",
    "plt.xlabel('Date in years')\n",
    "plt.xticks(ticks=ind, labels=val, rotation=90)\n",
    "plt.legend()"
   ]
  }
 ],
 "metadata": {
  "kernelspec": {
   "display_name": "CS446",
   "language": "python",
   "name": "python3"
  },
  "language_info": {
   "codemirror_mode": {
    "name": "ipython",
    "version": 3
   },
   "file_extension": ".py",
   "mimetype": "text/x-python",
   "name": "python",
   "nbconvert_exporter": "python",
   "pygments_lexer": "ipython3",
   "version": "3.8.12"
  },
  "orig_nbformat": 4,
  "vscode": {
   "interpreter": {
    "hash": "8497969e8eb5362e5e32545b756aefe11edb85d3cdb8af5d251edc870507c559"
   }
  }
 },
 "nbformat": 4,
 "nbformat_minor": 2
}
